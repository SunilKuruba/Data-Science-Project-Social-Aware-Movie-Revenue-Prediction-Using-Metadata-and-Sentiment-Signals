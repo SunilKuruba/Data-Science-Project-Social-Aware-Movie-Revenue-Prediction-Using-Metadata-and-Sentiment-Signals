{
 "cells": [
  {
   "cell_type": "markdown",
   "id": "976353be",
   "metadata": {},
   "source": [
    "## Project Introduction\n",
    "\n",
    "Movie Box office Prediction"
   ]
  },
  {
   "cell_type": "code",
   "execution_count": null,
   "id": "5577d9b4",
   "metadata": {},
   "outputs": [
    {
     "name": "stdout",
     "output_type": "stream",
     "text": [
      "/Users/tnithish/Documents/UIC/CS-418/movie-box-office-prediction\n"
     ]
    }
   ],
   "source": [
    "# this just shows the current directory\n",
    "!pwd"
   ]
  },
  {
   "cell_type": "code",
   "execution_count": 2,
   "id": "ec9b5ba7",
   "metadata": {},
   "outputs": [],
   "source": [
    "# from google.colab import drive\n",
    "# drive.mount('/content/drive')"
   ]
  }
 ],
 "metadata": {
  "kernelspec": {
   "display_name": "Python 3",
   "language": "python",
   "name": "python3"
  },
  "language_info": {
   "codemirror_mode": {
    "name": "ipython",
    "version": 3
   },
   "file_extension": ".py",
   "mimetype": "text/x-python",
   "name": "python",
   "nbconvert_exporter": "python",
   "pygments_lexer": "ipython3",
   "version": "3.11.0"
  }
 },
 "nbformat": 4,
 "nbformat_minor": 5
}
