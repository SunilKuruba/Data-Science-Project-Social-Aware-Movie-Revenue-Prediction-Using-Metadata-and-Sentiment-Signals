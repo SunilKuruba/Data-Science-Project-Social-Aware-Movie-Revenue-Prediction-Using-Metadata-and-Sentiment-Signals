{
 "cells": [
  {
   "cell_type": "markdown",
   "metadata": {},
   "source": [
    "![alt text](image.png)"
   ]
  },
  {
   "cell_type": "markdown",
   "metadata": {},
   "source": [
    "## Introduction\n",
    "In today’s data-driven entertainment industry, accurately predicting a movie’s box office performance is crucial for production houses, distributors, and investors. Traditional prediction models mostly rely on static features such as cast, director, genre, budget, and historical box office trends. While these models offer baseline insights, they fall short in capturing real-time dynamics like audience excitement, social media buzz, and word-of-mouth sentiment — all of which significantly influence a movie’s financial success.\n",
    "\n",
    "Our project aims to bridge this gap by integrating sentiment and emotional signals derived from social media platforms such as Reddit, YouTube, and IMDB, alongside structured movie data. This enriched approach goes beyond just revenue forecasting — it empowers stakeholders with timely insights into public anticipation, emotional resonance, and real-world audience perception prior to and during a movie's release cycle.\n",
    "\n",
    "## Problem statement\n",
    "Traditional box office prediction models primarily rely on structured features such as cast, genre, budget, and past revenue performance. While useful, these models overlook a critical factor that increasingly influences a movie's commercial success: real-time public sentiment and emotional engagement across digital platforms. In today’s highly connected world, the success or failure of a film is significantly shaped by how audiences perceive and discuss it before and during its release. Public hype, emotional buzz, and online discourse play a vital role in shaping movie attendance and streaming behavior — yet current models fail to incorporate this dynamic, real-time social feedback loop.\n",
    "\n",
    "We propose that integrating sentiment polarity and emotional tone from public discussions will improve forecasting accuracy, helping stakeholders make smarter marketing, release, and investment decisions — ultimately minimizing financial risk and maximizing return.\n",
    "\n",
    "## Apporach\n",
    "TBD\n",
    "\n",
    "## Proposal Changes\n",
    "Originally, the project included Twitter as a major sentiment source. However, due to Twitter's API restrictions and limited access to non-privileged developer data, we had to remove Twitter from the pipeline.\n",
    "\n",
    "To compensate and strengthen our model, we introduced emotion analysis — going beyond sentiment polarity (positive/negative) to capture the type and depth of emotion expressed by the audience. This enhancement helps differentiate between movies with similar sentiment but different emotional impact.\n",
    "\n",
    "## Team Contribution\n",
    "\n",
    "This section outlines the individual contributions of each team member toward the successful execution of the project.\n",
    "\n",
    "| **Task**                         | **Team Member**              |\n",
    "|----------------------------------|------------------------------|\n",
    "| IMDB Data Collection             | Nitish Kumar                 |\n",
    "| Reddit Data Collection           | Leonardo Ferreira            |\n",
    "| Reddit Data Analysis           | Leonardo Ferreira            |\n",
    "| YouTube Data Collection          | Aryan Shetty                 |\n",
    "| Data Cleaning & Preprocessing    | Sunil Kuruba                 |\n",
    "| Exploratory Data Analysis (EDA)  | Sunil Kuruba & Nitish Kumar |\n",
    "| Machine Learning Model Development | Niharika Belavadi Shekar  |\n",
    "| Documentation | Sunil Kuruba  |\n",
    "\n",
    "Each member actively contributed to discussions on pipeline design, feature prioritization, and NLP strategy. Cross-collaboration was maintained throughout the project to ensure smooth data flow and unified model objectives.\n",
    "\n",
    "## Expected Deliverables (Milestones)\n",
    "\n",
    "| **Phase**   | **Timeline**        | **Deliverables**                                              |\n",
    "|-------------|---------------------|---------------------------------------------------------------|\n",
    "| Phase 1     | March (Week 1–3)    | Data collection, cleaning, standardization                   |\n",
    "| Phase 2     | April (Week 1–2)    | EDA, Sentiment analysis, feature engineering, model setup         |\n",
    "| Phase 3     | April (Week 3–4)    | Final model training, evaluation, and report writing         |\n",
    "\n",
    "## Reflection\n",
    "TBD\n",
    "* Challenges\n",
    "* Initial analysis\n",
    "* Results\n",
    "\n"
   ]
  }
 ],
 "metadata": {
  "kernelspec": {
   "display_name": "Python 3",
   "language": "python",
   "name": "python3"
  },
  "language_info": {
   "codemirror_mode": {
    "name": "ipython",
    "version": 3
   },
   "file_extension": ".py",
   "mimetype": "text/x-python",
   "name": "python",
   "nbconvert_exporter": "python",
   "pygments_lexer": "ipython3",
   "version": "3.12.7"
  }
 },
 "nbformat": 4,
 "nbformat_minor": 2
}
