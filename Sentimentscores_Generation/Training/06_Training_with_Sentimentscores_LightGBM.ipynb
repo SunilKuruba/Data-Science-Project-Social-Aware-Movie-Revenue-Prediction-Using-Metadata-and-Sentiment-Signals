{
  "nbformat": 4,
  "nbformat_minor": 0,
  "metadata": {
    "colab": {
      "provenance": [],
      "gpuType": "T4"
    },
    "kernelspec": {
      "name": "python3",
      "display_name": "Python 3"
    },
    "language_info": {
      "name": "python"
    },
    "accelerator": "GPU"
  },
  "cells": [
    {
      "cell_type": "code",
      "execution_count": 1,
      "metadata": {
        "colab": {
          "base_uri": "https://localhost:8080/"
        },
        "id": "Y4mFx2DaPOo2",
        "outputId": "ab19fdfb-e7b5-4f09-f2f1-208f01bb083a"
      },
      "outputs": [
        {
          "output_type": "stream",
          "name": "stdout",
          "text": [
            "Mounted at /content/drive\n"
          ]
        }
      ],
      "source": [
        "from google.colab import drive\n",
        "drive.mount('/content/drive')"
      ]
    },
    {
      "cell_type": "code",
      "source": [
        "!pip install lightgbm"
      ],
      "metadata": {
        "colab": {
          "base_uri": "https://localhost:8080/"
        },
        "id": "ZBDR5uUdQlTL",
        "outputId": "c947d9d9-ad0a-4ef8-af3b-593c32ab5c35"
      },
      "execution_count": 3,
      "outputs": [
        {
          "output_type": "stream",
          "name": "stdout",
          "text": [
            "Requirement already satisfied: lightgbm in /usr/local/lib/python3.11/dist-packages (4.5.0)\n",
            "Requirement already satisfied: numpy>=1.17.0 in /usr/local/lib/python3.11/dist-packages (from lightgbm) (2.0.2)\n",
            "Requirement already satisfied: scipy in /usr/local/lib/python3.11/dist-packages (from lightgbm) (1.14.1)\n"
          ]
        }
      ]
    },
    {
      "cell_type": "code",
      "source": [
        "import pandas as pd\n",
        "import numpy as np\n",
        "from sklearn.model_selection import train_test_split\n",
        "from sklearn.metrics import mean_absolute_error, mean_squared_error\n",
        "from lightgbm import LGBMRegressor, early_stopping, log_evaluation\n",
        "import matplotlib.pyplot as plt\n",
        "\n",
        "# === 1. Loading enriched dataset ===\n",
        "df = pd.read_csv('/content/drive/My Drive/cleaned_movies_with_sentiment.csv')\n",
        "\n",
        "# === 2. Converting release_date column to datetime format ===\n",
        "df['release_date'] = pd.to_datetime(df['release_date'], errors='coerce')\n",
        "\n",
        "# === 3. Performing feature engineering ===\n",
        "df['release_year'] = df['release_date'].dt.year\n",
        "df['release_month'] = df['release_date'].dt.month\n",
        "df['cast_count'] = df['top_cast'].fillna('').str.split(', ').apply(len)\n",
        "df['genre_count'] = df['genres'].fillna('').str.split(', ').apply(len)\n",
        "df['keyword_count'] = df['keywords'].fillna('').str.split(', ').apply(len)\n",
        "\n",
        "# Extracting top 50 directors and assigning others as 'other'\n",
        "top_directors = df['director'].value_counts().nlargest(50).index\n",
        "df['director_clean'] = df['director'].apply(lambda x: x if x in top_directors else 'other')\n",
        "\n",
        "# Extracting top 50 production companies and assigning others as 'other'\n",
        "df['main_prod_company'] = df['production_companies'].str.split(', ').str[0]\n",
        "top_companies = df['main_prod_company'].value_counts().nlargest(50).index\n",
        "df['main_prod_company'] = df['main_prod_company'].apply(lambda x: x if x in top_companies else 'other')\n",
        "\n",
        "# Applying log transformation to revenue\n",
        "df['log_revenue'] = np.log1p(df['revenue'])\n",
        "\n",
        "# === 4. Converting categorical columns to category dtype ===\n",
        "categorical_cols = ['language', 'status', 'main_prod_company', 'director_clean']\n",
        "for col in categorical_cols:\n",
        "    df[col] = df[col].astype('category')\n",
        "\n",
        "# === 5. Giving more weight to sentiment/emotion columns ===\n",
        "sentiment_emotion_cols = [\n",
        "    'very_negative', 'neutral', 'very_positive',\n",
        "    'anger', 'disgust', 'joy', 'sadness'\n",
        "]\n",
        "for col in sentiment_emotion_cols:\n",
        "    df[col] = df[col] * 3\n",
        "\n",
        "# === 6. Defining features and target column ===\n",
        "drop_cols = ['movie_id', 'imdb_id', 'title', 'revenue', 'release_date',\n",
        "             'genres', 'top_cast', 'keywords', 'production_companies',\n",
        "             'director', 'genres_list', 'top_cast_list', 'keywords_list']\n",
        "features = [col for col in df.columns if col not in drop_cols + ['log_revenue']]\n",
        "X = df[features]\n",
        "y = df['log_revenue']\n",
        "\n",
        "# === 7. Splitting dataset ===\n",
        "X_trainval, X_test, y_trainval, y_test = train_test_split(X, y, test_size=0.15, random_state=42)\n",
        "X_train, X_val, y_train, y_val = train_test_split(X_trainval, y_trainval, test_size=0.15, random_state=42)\n",
        "\n",
        "# === 8. Initializing LightGBM model ===\n",
        "model = LGBMRegressor(\n",
        "    n_estimators=2000,\n",
        "    learning_rate=0.1,\n",
        "    max_depth=6,\n",
        "    random_state=42,\n",
        "    n_jobs=-1\n",
        ")\n",
        "\n",
        "# === 9. Fitting the model ===\n",
        "model.fit(\n",
        "    X_train, y_train,\n",
        "    eval_set=[(X_val, y_val)],\n",
        "    eval_metric='rmse',\n",
        "    categorical_feature=categorical_cols,\n",
        "    callbacks=[\n",
        "        early_stopping(stopping_rounds=50),\n",
        "        log_evaluation(period=100)\n",
        "    ]\n",
        ")\n",
        "\n",
        "# === 10. Evaluation function with custom accuracy ===\n",
        "def evaluate(model, X, y_true, label):\n",
        "    y_pred = model.predict(X)\n",
        "    y_pred_rev = np.expm1(y_pred)\n",
        "    y_true_rev = np.expm1(y_true)\n",
        "\n",
        "    mae = mean_absolute_error(y_true_rev, y_pred_rev)\n",
        "    rmse = np.sqrt(mean_squared_error(y_true_rev, y_pred_rev))\n",
        "    within_range = np.abs(y_pred_rev - y_true_rev) <= 10000000\n",
        "    custom_acc = np.mean(within_range)\n",
        "\n",
        "    print(f\"\\n📊 {label} Results:\")\n",
        "    print(f\"MAE: {mae:,.2f}\")\n",
        "    print(f\"RMSE: {rmse:,.2f}\")\n",
        "    print(f\"Custom ±10M Accuracy: {custom_acc * 100:.2f}%\")\n",
        "\n",
        "# === 11. Plotting LightGBM training progress ===\n",
        "def plot_training_progress(model):\n",
        "    evals_result = model.evals_result_\n",
        "    rmse_vals = evals_result['valid_0']['rmse']\n",
        "\n",
        "    plt.figure(figsize=(10, 6))\n",
        "    plt.plot(rmse_vals, label='Validation RMSE')\n",
        "    plt.xlabel('Boosting Rounds')\n",
        "    plt.ylabel('RMSE')\n",
        "    plt.title('LightGBM Training Progress with Sentiment Features')\n",
        "    plt.legend()\n",
        "    plt.grid(True)\n",
        "    plt.show()\n",
        "\n",
        "# === 12. Evaluate and Plot ===\n",
        "evaluate(model, X_val, y_val, \"Validation\")\n",
        "evaluate(model, X_test, y_test, \"Test\")\n",
        "plot_training_progress(model)\n"
      ],
      "metadata": {
        "colab": {
          "base_uri": "https://localhost:8080/",
          "height": 1000
        },
        "id": "7XAw35fpPy6H",
        "outputId": "b750e057-1c8e-4d64-b354-33189c7de9f3"
      },
      "execution_count": 9,
      "outputs": [
        {
          "output_type": "stream",
          "name": "stdout",
          "text": [
            "[LightGBM] [Info] Auto-choosing col-wise multi-threading, the overhead of testing was 0.001751 seconds.\n",
            "You can set `force_col_wise=true` to remove the overhead.\n",
            "[LightGBM] [Info] Total Bins 3352\n",
            "[LightGBM] [Info] Number of data points in the train set: 9089, number of used features: 21\n",
            "[LightGBM] [Info] Start training from score 13.787243\n",
            "Training until validation scores don't improve for 50 rounds\n",
            "[LightGBM] [Warning] No further splits with positive gain, best gain: -inf\n",
            "[LightGBM] [Warning] No further splits with positive gain, best gain: -inf\n",
            "[LightGBM] [Warning] No further splits with positive gain, best gain: -inf\n",
            "[LightGBM] [Warning] No further splits with positive gain, best gain: -inf\n",
            "[LightGBM] [Warning] No further splits with positive gain, best gain: -inf\n",
            "[LightGBM] [Warning] No further splits with positive gain, best gain: -inf\n",
            "[LightGBM] [Warning] No further splits with positive gain, best gain: -inf\n",
            "[LightGBM] [Warning] No further splits with positive gain, best gain: -inf\n",
            "[LightGBM] [Warning] No further splits with positive gain, best gain: -inf\n",
            "[LightGBM] [Warning] No further splits with positive gain, best gain: -inf\n",
            "[LightGBM] [Warning] No further splits with positive gain, best gain: -inf\n",
            "[LightGBM] [Warning] No further splits with positive gain, best gain: -inf\n",
            "[LightGBM] [Warning] No further splits with positive gain, best gain: -inf\n",
            "[LightGBM] [Warning] No further splits with positive gain, best gain: -inf\n",
            "[LightGBM] [Warning] No further splits with positive gain, best gain: -inf\n",
            "[LightGBM] [Warning] No further splits with positive gain, best gain: -inf\n",
            "[LightGBM] [Warning] No further splits with positive gain, best gain: -inf\n",
            "[LightGBM] [Warning] No further splits with positive gain, best gain: -inf\n",
            "[LightGBM] [Warning] No further splits with positive gain, best gain: -inf\n",
            "[LightGBM] [Warning] No further splits with positive gain, best gain: -inf\n",
            "[LightGBM] [Warning] No further splits with positive gain, best gain: -inf\n",
            "[LightGBM] [Warning] No further splits with positive gain, best gain: -inf\n",
            "[LightGBM] [Warning] No further splits with positive gain, best gain: -inf\n",
            "[LightGBM] [Warning] No further splits with positive gain, best gain: -inf\n",
            "[LightGBM] [Warning] No further splits with positive gain, best gain: -inf\n",
            "[LightGBM] [Warning] No further splits with positive gain, best gain: -inf\n",
            "[LightGBM] [Warning] No further splits with positive gain, best gain: -inf\n",
            "[LightGBM] [Warning] No further splits with positive gain, best gain: -inf\n",
            "[LightGBM] [Warning] No further splits with positive gain, best gain: -inf\n",
            "[LightGBM] [Warning] No further splits with positive gain, best gain: -inf\n",
            "[LightGBM] [Warning] No further splits with positive gain, best gain: -inf\n",
            "[LightGBM] [Warning] No further splits with positive gain, best gain: -inf\n",
            "[LightGBM] [Warning] No further splits with positive gain, best gain: -inf\n",
            "[LightGBM] [Warning] No further splits with positive gain, best gain: -inf\n",
            "[LightGBM] [Warning] No further splits with positive gain, best gain: -inf\n",
            "[LightGBM] [Warning] No further splits with positive gain, best gain: -inf\n",
            "[LightGBM] [Warning] No further splits with positive gain, best gain: -inf\n",
            "[LightGBM] [Warning] No further splits with positive gain, best gain: -inf\n",
            "[LightGBM] [Warning] No further splits with positive gain, best gain: -inf\n",
            "[LightGBM] [Warning] No further splits with positive gain, best gain: -inf\n",
            "[100]\tvalid_0's rmse: 1.79366\tvalid_0's l2: 3.2172\n",
            "[LightGBM] [Warning] No further splits with positive gain, best gain: -inf\n",
            "[LightGBM] [Warning] No further splits with positive gain, best gain: -inf\n",
            "[LightGBM] [Warning] No further splits with positive gain, best gain: -inf\n",
            "[LightGBM] [Warning] No further splits with positive gain, best gain: -inf\n",
            "[LightGBM] [Warning] No further splits with positive gain, best gain: -inf\n",
            "[LightGBM] [Warning] No further splits with positive gain, best gain: -inf\n",
            "[LightGBM] [Warning] No further splits with positive gain, best gain: -inf\n",
            "[LightGBM] [Warning] No further splits with positive gain, best gain: -inf\n",
            "[LightGBM] [Warning] No further splits with positive gain, best gain: -inf\n",
            "[LightGBM] [Warning] No further splits with positive gain, best gain: -inf\n",
            "[LightGBM] [Warning] No further splits with positive gain, best gain: -inf\n",
            "[LightGBM] [Warning] No further splits with positive gain, best gain: -inf\n",
            "[LightGBM] [Warning] No further splits with positive gain, best gain: -inf\n",
            "[LightGBM] [Warning] No further splits with positive gain, best gain: -inf\n",
            "Early stopping, best iteration is:\n",
            "[74]\tvalid_0's rmse: 1.78935\tvalid_0's l2: 3.20177\n",
            "\n",
            "📊 Validation Results:\n",
            "MAE: 24,271,026.97\n",
            "RMSE: 73,722,699.91\n",
            "Custom ±10M Accuracy: 78.63%\n",
            "\n",
            "📊 Test Results:\n",
            "MAE: 23,723,147.87\n",
            "RMSE: 64,131,878.99\n",
            "Custom ±10M Accuracy: 78.71%\n"
          ]
        },
        {
          "output_type": "display_data",
          "data": {
            "text/plain": [
              "<Figure size 1000x600 with 1 Axes>"
            ],
            "image/png": "[encoded data removed]"
          },
          "metadata": {}
        }
      ]
    }
  ]
}